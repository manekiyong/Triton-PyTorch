{
 "cells": [
  {
   "cell_type": "code",
   "execution_count": null,
   "metadata": {},
   "outputs": [],
   "source": [
    "import torch\n",
    "import numpy as np\n",
    "import tritonclient.http as httpclient\n",
    "from tritonclient.utils import InferenceServerException\n",
    "\n",
    "from transformers import BertTokenizer"
   ]
  },
  {
   "cell_type": "markdown",
   "metadata": {},
   "source": [
    "Inference on Resnet"
   ]
  },
  {
   "cell_type": "code",
   "execution_count": null,
   "metadata": {},
   "outputs": [],
   "source": [
    "# Assuming Triton is served on Local Machine\n",
    "URL = 'localhost:8000'\n",
    "VERBOSE = False\n",
    "\n",
    "triton_client = httpclient.InferenceServerClient(url=URL, verbose=VERBOSE)\n",
    "model_name = 'resnet'"
   ]
  },
  {
   "cell_type": "code",
   "execution_count": null,
   "metadata": {},
   "outputs": [],
   "source": [
    "# Generate random data\n",
    "img = torch.rand(1, 3,160,160)\n",
    "\n",
    "# Convert input to numpy\n",
    "img = img.numpy()"
   ]
  },
  {
   "cell_type": "code",
   "execution_count": null,
   "metadata": {},
   "outputs": [],
   "source": [
    "inputs = []\n",
    "outputs = []\n",
    "\n",
    "inputs.append(\n",
    "    httpclient.InferInput(name=\"INPUT__0\", shape=img.shape, datatype=\"FP32\")\n",
    ")\n",
    "inputs[0].set_data_from_numpy(img, binary_data=False)\n",
    "\n",
    "outputs.append(httpclient.InferRequestedOutput(name=\"OUTPUT__0\"))\n",
    "\n",
    "result = triton_client.infer(\n",
    "    model_name = model_name, \n",
    "    inputs=inputs, \n",
    "    outputs=outputs\n",
    ")\n",
    "\n",
    "result = result.as_numpy(\"OUTPUT__0\")"
   ]
  },
  {
   "cell_type": "markdown",
   "metadata": {},
   "source": [
    "Inference on BERT"
   ]
  },
  {
   "cell_type": "code",
   "execution_count": null,
   "metadata": {},
   "outputs": [],
   "source": [
    "enc = BertTokenizer.from_pretrained(\"bert-base-uncased\")\n",
    "\n",
    "URL = 'localhost:8000'\n",
    "VERBOSE = False\n",
    "\n",
    "triton_client = httpclient.InferenceServerClient(url=URL, verbose=VERBOSE)\n",
    "model_name = 'bert'"
   ]
  },
  {
   "cell_type": "code",
   "execution_count": null,
   "metadata": {},
   "outputs": [],
   "source": [
    "\n",
    "text = \"[CLS] My profile picture is an orange cat [SEP]\"\n",
    "tokenized_text = enc.tokenize(text)\n",
    "indexed_tokens = enc.convert_tokens_to_ids(tokenized_text)\n",
    "segments_ids = [0]*len(tokenized_text) # Segment Mask\n"
   ]
  },
  {
   "cell_type": "code",
   "execution_count": null,
   "metadata": {},
   "outputs": [],
   "source": [
    "token_np = np.array([indexed_tokens], dtype='int32')\n",
    "mask_np = np.array([segments_ids], dtype='int32')"
   ]
  },
  {
   "cell_type": "code",
   "execution_count": null,
   "metadata": {},
   "outputs": [],
   "source": [
    "inputs = []\n",
    "outputs = []\n",
    "\n",
    "inputs.append(\n",
    "    httpclient.InferInput(name=\"INPUT__0\", shape=token_np.shape, datatype=\"INT32\")\n",
    ")\n",
    "inputs.append(\n",
    "    httpclient.InferInput(name=\"INPUT__1\", shape=mask_np.shape, datatype=\"INT32\")\n",
    ")\n",
    "inputs[0].set_data_from_numpy(token_np, binary_data=False)\n",
    "inputs[1].set_data_from_numpy(mask_np, binary_data=False)\n",
    "\n",
    "outputs.append(httpclient.InferRequestedOutput(name=\"OUTPUT__0\"))\n",
    "outputs.append(httpclient.InferRequestedOutput(name=\"OUTPUT__1\"))\n",
    "\n",
    "result = triton_client.infer(\n",
    "    model_name = model_name, \n",
    "    inputs=inputs, \n",
    "    outputs=outputs\n",
    ")\n",
    "\n",
    "text_emb = result.as_numpy(\"OUTPUT__0\")\n",
    "pool_output = result.as_numpy(\"OUTPUT__1\")"
   ]
  },
  {
   "cell_type": "code",
   "execution_count": null,
   "metadata": {},
   "outputs": [],
   "source": []
  }
 ],
 "metadata": {
  "interpreter": {
   "hash": "ba3fc2bfbfd92beab59e36ce2d31640d4abac1fc6be969144d395af29002bb35"
  },
  "kernelspec": {
   "display_name": "Python 3.9.12 ('triton-temp')",
   "language": "python",
   "name": "python3"
  },
  "language_info": {
   "codemirror_mode": {
    "name": "ipython",
    "version": 3
   },
   "file_extension": ".py",
   "mimetype": "text/x-python",
   "name": "python",
   "nbconvert_exporter": "python",
   "pygments_lexer": "ipython3",
   "version": "3.9.12"
  },
  "orig_nbformat": 4
 },
 "nbformat": 4,
 "nbformat_minor": 2
}
